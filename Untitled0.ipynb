{
  "nbformat": 4,
  "nbformat_minor": 0,
  "metadata": {
    "colab": {
      "provenance": [],
      "authorship_tag": "ABX9TyMndfO6TWsv49j/73GLBNc7",
      "include_colab_link": true
    },
    "kernelspec": {
      "name": "python3",
      "display_name": "Python 3"
    },
    "language_info": {
      "name": "python"
    }
  },
  "cells": [
    {
      "cell_type": "markdown",
      "metadata": {
        "id": "view-in-github",
        "colab_type": "text"
      },
      "source": [
        "<a href=\"https://colab.research.google.com/github/Autodied/autodie/blob/main/Untitled0.ipynb\" target=\"_parent\"><img src=\"https://colab.research.google.com/assets/colab-badge.svg\" alt=\"Open In Colab\"/></a>"
      ]
    },
    {
      "cell_type": "code",
      "execution_count": 145,
      "metadata": {
        "id": "Zw41rgl-1KbW"
      },
      "outputs": [],
      "source": [
        "class BankAccount:\n",
        "  def __init__ (self,norek=\"Khabib\",saldo=0):\n",
        "    self.norek = norek\n",
        "    self.saldo = saldo\n",
        "\n",
        "  def transfer(self,target_account,amount):\n",
        "    if amount > self.saldo:\n",
        "      raise ValueError(\"Saldo Tidak Mencukupi..\")\n",
        "\n",
        "    self.saldo -= amount\n",
        "    target_account.saldo +=amount"
      ]
    },
    {
      "cell_type": "code",
      "source": [
        "bca1=BankAccount()\n",
        "print(f\"No Rekening Anda : {bca1.norek}\")\n",
        "print(f\"Saldo Anda : {bca1.saldo:,}\")"
      ],
      "metadata": {
        "colab": {
          "base_uri": "https://localhost:8080/"
        },
        "id": "ENRHz4ja2Wm2",
        "outputId": "0ca14d1a-c9f5-4656-f8a1-cd290dbd5b87"
      },
      "execution_count": 146,
      "outputs": [
        {
          "output_type": "stream",
          "name": "stdout",
          "text": [
            "No Rekening Anda : Khabib\n",
            "Saldo Anda : 0\n"
          ]
        }
      ]
    },
    {
      "cell_type": "code",
      "source": [
        "bca2=BankAccount(\"Agus\", 3000000)\n",
        "print(f\"No Rekening Anda : {bca2.norek}\")\n",
        "print(f\"Saldo Anda : {bca2.saldo:,}\")"
      ],
      "metadata": {
        "colab": {
          "base_uri": "https://localhost:8080/"
        },
        "id": "CPHyAePE5u1M",
        "outputId": "560fac54-439b-40b8-99bb-201bb388e018"
      },
      "execution_count": 147,
      "outputs": [
        {
          "output_type": "stream",
          "name": "stdout",
          "text": [
            "No Rekening Anda : Agus\n",
            "Saldo Anda : 3,000,000\n"
          ]
        }
      ]
    },
    {
      "cell_type": "code",
      "source": [
        "amount_tf = 10000\n",
        "try:\n",
        "  bca1.transfer(bca2,10000)\n",
        "except ValueError as e:\n",
        "  print(e)\n",
        "\n",
        "print(f\"Transfer Sejumlah Rp. {amount_tf:,} dari rekening {bca1.norek} ke {bca2.norek}\")\n",
        "print(f\"Saldo {bca2.norek} : Rp. {bca2.saldo:,}\")\n",
        "print(f\"Saldo {bca1.norek} : Rp. {bca1.saldo:,}\")"
      ],
      "metadata": {
        "colab": {
          "base_uri": "https://localhost:8080/"
        },
        "id": "n1gUJiJT6goM",
        "outputId": "628cae1b-1121-4809-dd20-41cf72be7379"
      },
      "execution_count": 148,
      "outputs": [
        {
          "output_type": "stream",
          "name": "stdout",
          "text": [
            "Saldo Tidak Mencukupi..\n",
            "Transfer Sejumlah Rp. 10,000 dari rekening Khabib ke Agus\n",
            "Saldo Agus : Rp. 3,000,000\n",
            "Saldo Khabib : Rp. 0\n"
          ]
        }
      ]
    },
    {
      "cell_type": "code",
      "source": [
        "amount_tf = 10000\n",
        "try:\n",
        "  bca2.transfer(bca1,10000)\n",
        "except ValueError as e:\n",
        "  print(e)\n",
        "\n",
        "print(f\"Transfer Sejumlah Rp. {amount_tf:,} dari rekening {bca2.norek} ke {bca1.norek}\")\n",
        "print(f\"Saldo {bca2.norek} : Rp. {bca2.saldo:,}\")\n",
        "print(f\"Saldo {bca1.norek} : Rp. {bca1.saldo:,}\")"
      ],
      "metadata": {
        "colab": {
          "base_uri": "https://localhost:8080/"
        },
        "id": "85HvY8o768T_",
        "outputId": "51b49ea3-92df-495a-81c7-8f4edfacd33b"
      },
      "execution_count": 149,
      "outputs": [
        {
          "output_type": "stream",
          "name": "stdout",
          "text": [
            "Transfer Sejumlah Rp. 10,000 dari rekening Agus ke Khabib\n",
            "Saldo Agus : Rp. 2,990,000\n",
            "Saldo Khabib : Rp. 10,000\n"
          ]
        }
      ]
    },
    {
      "cell_type": "code",
      "source": [
        "print(f\"Saldo Anda : {bca1.saldo:,}\")"
      ],
      "metadata": {
        "colab": {
          "base_uri": "https://localhost:8080/"
        },
        "id": "csr5w2MS_cfh",
        "outputId": "529ff675-76e7-4b4e-e623-507b788e0614"
      },
      "execution_count": 150,
      "outputs": [
        {
          "output_type": "stream",
          "name": "stdout",
          "text": [
            "Saldo Anda : 10,000\n"
          ]
        }
      ]
    }
  ]
}